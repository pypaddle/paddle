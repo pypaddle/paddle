{
 "cells": [
  {
   "cell_type": "markdown",
   "metadata": {},
   "source": [
    "# Imports"
   ]
  },
  {
   "cell_type": "code",
   "execution_count": 1,
   "metadata": {},
   "outputs": [],
   "source": [
    "import os\n",
    "import paddle\n",
    "import torchvision\n",
    "import torch\n",
    "import torch.nn as nn\n",
    "import numpy as np\n",
    "import paddle.sparse\n",
    "import seaborn as sns\n",
    "import networkx as nx\n",
    "\n",
    "from paddle.learning import train, test\n",
    "from torchvision.transforms import transforms"
   ]
  },
  {
   "cell_type": "code",
   "execution_count": 2,
   "metadata": {},
   "outputs": [
    {
     "data": {
      "text/plain": [
       "device(type='cuda', index=0)"
      ]
     },
     "execution_count": 2,
     "metadata": {},
     "output_type": "execute_result"
    }
   ],
   "source": [
    "device = torch.device('cuda:0' if torch.cuda.is_available() else 'cpu')\n",
    "device"
   ]
  },
  {
   "cell_type": "markdown",
   "metadata": {},
   "source": [
    "# Some two-layer structure"
   ]
  },
  {
   "cell_type": "code",
   "execution_count": null,
   "metadata": {},
   "outputs": [],
   "source": [
    "structure = paddle.sparse.CachedLayeredGraph()\n",
    "structure.add_nodes_from(np.arange(1, 7))\n",
    "\n",
    "block0_size = 50\n",
    "block1_size = 50\n",
    "block2_size = 30\n",
    "block3_size = 30\n",
    "block4_size = 30\n",
    "block5_size = 20\n",
    "block6_size = 20\n",
    "block0 = np.arange(1, block0_size+1)\n",
    "block1 = np.arange(block0_size+1, block0_size+block1_size+1)\n",
    "block2 = np.arange(block0_size+block1_size+1, block0_size+block1_size+block2_size+1)\n",
    "block3 = np.arange(block0_size+block1_size+block2_size+1, block0_size+block1_size+block2_size+block3_size+1)\n",
    "block4 = np.arange(block0_size+block1_size+block2_size+block3_size+1, block0_size+block1_size+block2_size+block3_size+block4_size+1)\n",
    "block5 = np.arange(block0_size+block1_size+block2_size+block3_size+block4_size+1, block0_size+block1_size+block2_size+block3_size+block4_size+block5_size+1)\n",
    "block6 = np.arange(block0_size+block1_size+block2_size+block3_size+block4_size+block5_size+1, block0_size+block1_size+block2_size+block3_size+block4_size+block5_size+block6_size+1)\n",
    "\n",
    "# First layer\n",
    "for v in block0:\n",
    "    for t in block2:\n",
    "        structure.add_edge(v, t)\n",
    "for v in block0:\n",
    "    for t in block3:\n",
    "        structure.add_edge(v, t)\n",
    "for v in block1:\n",
    "    for t in block3:\n",
    "        structure.add_edge(v, t)\n",
    "for v in block1:\n",
    "    for t in block4:\n",
    "        structure.add_edge(v, t)\n",
    "\n",
    "# Second layer\n",
    "for v in block2:\n",
    "    for t in block5:\n",
    "        structure.add_edge(v, t)\n",
    "for v in block3:\n",
    "    for t in block5:\n",
    "        structure.add_edge(v, t)\n",
    "for v in block3:\n",
    "    for t in block6:\n",
    "        structure.add_edge(v, t)\n",
    "for v in block4:\n",
    "    for t in block6:\n",
    "        structure.add_edge(v, t)"
   ]
  },
  {
   "cell_type": "markdown",
   "metadata": {},
   "source": [
    "# Load mnist dataset"
   ]
  },
  {
   "cell_type": "code",
   "execution_count": 3,
   "metadata": {},
   "outputs": [],
   "source": [
    "batch_size = 100\n",
    "\n",
    "\"\"\"\n",
    "MNIST\n",
    "\"\"\"\n",
    "custom_transform = transforms.Compose([\n",
    "    transforms.ToTensor(),  # first, convert image to PyTorch tensor\n",
    "    transforms.Normalize((0.1307,), (0.3081,))  # normalize inputs\n",
    "])\n",
    "# download and transform train dataset\n",
    "mnist_train_loader = torch.utils.data.DataLoader(torchvision.datasets.MNIST('/media/data/set/mnist/',\n",
    "                                                          download=True,\n",
    "                                                          train=True,\n",
    "                                                          transform=custom_transform),\n",
    "                                                           batch_size=batch_size,\n",
    "                                                           shuffle=True)\n",
    "\n",
    "# download and transform test dataset\n",
    "mnist_test_loader = torch.utils.data.DataLoader(torchvision.datasets.MNIST('/media/data/set/mnist/',\n",
    "                                                         download=True,\n",
    "                                                         train=False,\n",
    "                                                         transform=custom_transform),\n",
    "                                                          batch_size=batch_size,\n",
    "                                                          shuffle=True)"
   ]
  },
  {
   "cell_type": "code",
   "execution_count": null,
   "metadata": {},
   "outputs": [],
   "source": [
    "epochs = 100\n",
    "device = torch.device('cuda:0' if torch.cuda.is_available() else 'cpu')\n",
    "\n",
    "model = paddle.sparse.MaskedDeepDAN(784, 10, structure)\n",
    "print(model)\n",
    "\n",
    "# Assuming that we are on a CUDA machine, this should print a CUDA device:\n",
    "print(device)\n",
    "model.to(device)\n",
    "\n",
    "optimizer = torch.optim.SGD(model.parameters(), lr=0.01, momentum=0.5)\n",
    "loss_func = nn.CrossEntropyLoss()"
   ]
  },
  {
   "cell_type": "code",
   "execution_count": null,
   "metadata": {},
   "outputs": [],
   "source": [
    "for epoch in range(epochs):\n",
    "    print('Epoch', epoch)\n",
    "    loss, perc = train(mnist_train_loader, model, optimizer, loss_func, device, percentage=True)\n",
    "    print('Train', loss, perc)\n",
    "\n",
    "    print('Test', test(mnist_test_loader, model, device))"
   ]
  },
  {
   "cell_type": "code",
   "execution_count": null,
   "metadata": {},
   "outputs": [],
   "source": [
    "model.layers_main_hidden[1].mask.shape"
   ]
  },
  {
   "cell_type": "code",
   "execution_count": null,
   "metadata": {},
   "outputs": [],
   "source": [
    "sns.heatmap(model.layers_main_hidden[0].mask.cpu().detach().numpy())"
   ]
  },
  {
   "cell_type": "code",
   "execution_count": null,
   "metadata": {},
   "outputs": [],
   "source": [
    "sns.heatmap(model.layers_main_hidden[0].weight.cpu().detach().numpy())"
   ]
  },
  {
   "cell_type": "code",
   "execution_count": null,
   "metadata": {},
   "outputs": [],
   "source": [
    "masked_weights = model.layers_main_hidden[0].weight.cpu().detach().numpy()*model.layers_main_hidden[0].mask.cpu().detach().numpy()\n",
    "model.layers_main_hidden[0].weight = nn.Parameter(torch.cuda.FloatTensor(masked_weights))"
   ]
  },
  {
   "cell_type": "code",
   "execution_count": null,
   "metadata": {},
   "outputs": [],
   "source": [
    "sns.heatmap(model.layers_main_hidden[0].weight.cpu().detach().numpy())"
   ]
  },
  {
   "cell_type": "code",
   "execution_count": null,
   "metadata": {},
   "outputs": [],
   "source": [
    "print('Test', test(mnist_test_loader, model, device))"
   ]
  },
  {
   "cell_type": "code",
   "execution_count": null,
   "metadata": {},
   "outputs": [],
   "source": [
    "sns.heatmap(model.layers_main_hidden[1].mask.cpu().detach().numpy())"
   ]
  },
  {
   "cell_type": "code",
   "execution_count": null,
   "metadata": {},
   "outputs": [],
   "source": [
    "print('Test', test(mnist_test_loader, model, device))"
   ]
  },
  {
   "cell_type": "markdown",
   "metadata": {},
   "source": [
    "## Load cifar10 Dataset"
   ]
  },
  {
   "cell_type": "code",
   "execution_count": null,
   "metadata": {},
   "outputs": [],
   "source": [
    "transform = transforms.Compose([transforms.ToTensor(), transforms.Normalize((0.5, 0.5, 0.5), (0.5, 0.5, 0.5))])\n",
    "\n",
    "dataset_root = '/media/data/set/cifar10'\n",
    "if not os.path.exists(dataset_root):\n",
    "    os.makedirs(dataset_root)\n",
    "cifar10_train_set = torchvision.datasets.CIFAR10(root=dataset_root, train=True, download=True, transform=transform)\n",
    "cifar10_test_set = torchvision.datasets.CIFAR10(root=dataset_root, train=False, download=True, transform=transform)\n",
    "\n",
    "cifar10_train_loader = torch.utils.data.DataLoader(cifar10_train_set,\n",
    "                                                  batch_size=batch_size,\n",
    "                                                  shuffle=True)\n",
    "cifar10_test_loader = torch.utils.data.DataLoader(cifar10_test_set,\n",
    "                                                  batch_size=batch_size,\n",
    "                                                  shuffle=True)\n",
    "\n",
    "classes = ('plane', 'car', 'bird', 'cat', 'deer', 'dog', 'frog', 'horse', 'ship', 'truck')\n"
   ]
  },
  {
   "cell_type": "code",
   "execution_count": null,
   "metadata": {},
   "outputs": [],
   "source": [
    "device = torch.device('cuda:0' if torch.cuda.is_available() else 'cpu')\n",
    "\n",
    "model_cifar10 = paddle.sparse.MaskedDeepDAN(32*32*3, 10, structure)\n",
    "print(model_cifar10)\n",
    "\n",
    "# Assuming that we are on a CUDA machine, this should print a CUDA device:\n",
    "print(device)\n",
    "model_cifar10.to(device)\n",
    "\n",
    "optimizer = torch.optim.SGD(model_cifar10.parameters(), lr=0.01, momentum=0.5)\n",
    "loss_func = nn.CrossEntropyLoss()"
   ]
  },
  {
   "cell_type": "code",
   "execution_count": null,
   "metadata": {},
   "outputs": [],
   "source": [
    "epochs = 10\n",
    "for epoch in range(epochs):\n",
    "    print('Epoch', epoch)\n",
    "    loss, perc = train(cifar10_train_loader, model_cifar10, optimizer, loss_func, device, percentage=True)\n",
    "    print('Train', loss, perc)\n",
    "\n",
    "    print('Test', test(cifar10_test_loader, model_cifar10, device))"
   ]
  },
  {
   "cell_type": "code",
   "execution_count": null,
   "metadata": {},
   "outputs": [],
   "source": [
    "sns.heatmap(model_cifar10.layers_main_hidden[0].weight.cpu().detach().numpy())"
   ]
  },
  {
   "cell_type": "code",
   "execution_count": null,
   "metadata": {},
   "outputs": [],
   "source": [
    "sns.heatmap(model_cifar10.layers_main_hidden[1].weight.cpu().detach().numpy())"
   ]
  },
  {
   "cell_type": "code",
   "execution_count": 4,
   "metadata": {},
   "outputs": [
    {
     "name": "stdout",
     "output_type": "stream",
     "text": [
      "[[0. 0. 0. ... 0. 0. 0.]\n",
      " [0. 0. 0. ... 0. 0. 0.]\n",
      " [0. 0. 0. ... 0. 0. 0.]\n",
      " ...\n",
      " [0. 0. 0. ... 0. 0. 0.]\n",
      " [0. 0. 0. ... 0. 0. 0.]\n",
      " [1. 0. 0. ... 0. 0. 0.]]\n",
      "56\n",
      "49\n",
      "36\n",
      "25\n",
      "13\n",
      "11\n",
      "5\n",
      "3\n",
      "1\n",
      "1\n",
      "cuda:0\n",
      "Epoch 0\n",
      "Train 2.2742526443799336 14.186666666666667\n",
      "Test 20.63\n",
      "Epoch 1\n",
      "Train 2.1017670595645903 20.31833333333333\n",
      "Test 20.95\n",
      "Epoch 2\n",
      "Train 2.015386228164037 21.22833333333333\n",
      "Test 21.97\n",
      "Epoch 3\n",
      "Train 1.9664593760172526 22.115\n",
      "Test 23.21\n",
      "Epoch 4\n",
      "Train 1.9381909801562627 23.343333333333334\n",
      "Test 24.31\n",
      "Epoch 5\n",
      "Train 1.9112065227826436 24.795\n",
      "Test 26.34\n",
      "Epoch 6\n",
      "Train 1.8778076835473378 26.16\n",
      "Test 26.24\n",
      "Epoch 7\n",
      "Train 1.8415191694100699 26.686666666666667\n",
      "Test 26.93\n",
      "Epoch 8\n",
      "Train 1.8091934766372044 27.35333333333333\n",
      "Test 27.91\n",
      "Epoch 9\n",
      "Train 1.78273723979791 28.685\n",
      "Test 28.28\n"
     ]
    }
   ],
   "source": [
    "#random_graph = nx.fast_gnp_random_graph(200, 0.5)\n",
    "#random_graph = nx.balanced_tree(3, 10)\n",
    "random_graph = nx.watts_strogatz_graph(200, 3, 0.7)\n",
    "random_directed_graph = np.tril(nx.to_numpy_matrix(random_graph))\n",
    "print(random_directed_graph)\n",
    "\n",
    "structure = paddle.sparse.CachedLayeredGraph()\n",
    "for source, targets in enumerate(random_directed_graph):\n",
    "    for target, weight in enumerate(targets):\n",
    "        if weight > 0:\n",
    "            structure.add_edge(source, target)\n",
    "#print(nx.to_numpy_matrix(structure))\n",
    "\n",
    "model = paddle.sparse.MaskedDeepDAN(784, 10, structure)\n",
    "\n",
    "for layer in structure.layers:\n",
    "    print(structure.get_layer_size(layer))\n",
    "\n",
    "# Assuming that we are on a CUDA machine, this should print a CUDA device:\n",
    "print(device)\n",
    "model.to(device)\n",
    "\n",
    "optimizer = torch.optim.SGD(model.parameters(), lr=0.01, momentum=0.5)\n",
    "loss_func = nn.CrossEntropyLoss()    \n",
    "\n",
    "epochs = 10\n",
    "for epoch in range(epochs):\n",
    "    print('Epoch', epoch)\n",
    "    loss, perc = train(mnist_train_loader, model, optimizer, loss_func, device, percentage=True)\n",
    "    print('Train', loss, perc)\n",
    "\n",
    "    print('Test', test(mnist_test_loader, model, device))"
   ]
  },
  {
   "cell_type": "code",
   "execution_count": null,
   "metadata": {},
   "outputs": [],
   "source": [
    "sns.heatmap(model.layers_main_hidden[1].mask.cpu().detach().numpy())"
   ]
  },
  {
   "cell_type": "code",
   "execution_count": 19,
   "metadata": {},
   "outputs": [
    {
     "name": "stdout",
     "output_type": "stream",
     "text": [
      "(500, 500)\n",
      "Layer size: 250\n",
      "Layer size: 100\n",
      "Layer size: 100\n",
      "Layer size: 50\n"
     ]
    }
   ],
   "source": [
    "structure = paddle.sparse.CachedLayeredGraph()\n",
    "\n",
    "block_structure = {\n",
    "    0: (50, [5, 6, 7, 20, 21]),  # (capacity, [connected_to_block1, connected_to_block2, ..])\n",
    "    1: (50, [5, 7, 21, 22]),\n",
    "    2: (50, [6, 8, 20, 24]),\n",
    "    3: (50, [7, 9, 22, 23]),\n",
    "    4: (50, [8, 9, 23, 24]),\n",
    "    \n",
    "    5: (20, [10, 11, 12, 20]),\n",
    "    6: (20, [11, 12, 13, 21]),\n",
    "    7: (20, [13, 14, 15, 16, 22]),\n",
    "    8: (20, [16, 17, 18, 23]),\n",
    "    9: (20, [17, 18, 19, 24]),\n",
    "    \n",
    "    10: (10, [20, 21, 22]),\n",
    "    11: (10, [21, 22, 23]),\n",
    "    12: (10, [22, 23, 24]),\n",
    "    13: (10, [20, 21, 22]),\n",
    "    14: (10, [21, 22, 23]),\n",
    "    15: (10, [22, 23, 24]),\n",
    "    16: (10, [20, 21, 22, 23, 24]),\n",
    "    17: (10, [20, 21, 22]),\n",
    "    18: (10, [21, 22, 23]),\n",
    "    19: (10, [22, 23, 24]),\n",
    "    \n",
    "    20: (10, []),\n",
    "    21: (10, []),\n",
    "    22: (10, []),\n",
    "    23: (10, []),\n",
    "    24: (10, [])\n",
    "}\n",
    "\n",
    "blocks = {}\n",
    "block_offset = 0\n",
    "targets = {}\n",
    "for block in block_structure:\n",
    "    capacity = block_structure[block][0]\n",
    "    blocks[block] = np.arange(block_offset, block_offset+capacity)\n",
    "    block_offset += capacity\n",
    "for block in block_structure:\n",
    "    targets = block_structure[block][1]\n",
    "    for target_block in targets:\n",
    "        for source_vtx in blocks[block]:\n",
    "            for target_vtx in blocks[target_block]:\n",
    "                structure.add_edge(source_vtx, target_vtx)\n",
    "\n",
    "print(nx.to_numpy_matrix(structure).shape)\n",
    "\n",
    "for layer in structure.layers:\n",
    "    print('Layer size:', structure.get_layer_size(layer))"
   ]
  },
  {
   "cell_type": "code",
   "execution_count": 20,
   "metadata": {},
   "outputs": [
    {
     "name": "stdout",
     "output_type": "stream",
     "text": [
      "cuda:0\n",
      "Epoch 0\n",
      "Train 0.9258166017383337 76.525\n",
      "Test 90.16\n",
      "Epoch 1\n",
      "Train 0.31483462793131667 90.94166666666666\n",
      "Test 92.49\n",
      "Epoch 2\n",
      "Train 0.25666981981446346 92.47666666666667\n",
      "Test 93.43\n",
      "Epoch 3\n",
      "Train 0.22035176155467828 93.61833333333334\n",
      "Test 94.29\n",
      "Epoch 4\n",
      "Train 0.19201463324949145 94.455\n",
      "Test 94.63\n",
      "Epoch 5\n",
      "Train 0.16925397698457043 95.155\n",
      "Test 95.16\n",
      "Epoch 6\n",
      "Train 0.15031055479620894 95.61333333333333\n",
      "Test 95.64\n",
      "Epoch 7\n",
      "Train 0.13394322582210103 96.065\n",
      "Test 95.82\n",
      "Epoch 8\n",
      "Train 0.12068376923600832 96.525\n",
      "Test 96.22\n",
      "Epoch 9\n",
      "Train 0.10952180196841557 96.85833333333333\n",
      "Test 96.46\n",
      "Epoch 10\n",
      "Train 0.09914997207932175 97.18833333333333\n",
      "Test 96.76\n",
      "Epoch 11\n",
      "Train 0.09085985654965043 97.42666666666666\n",
      "Test 96.96\n",
      "Epoch 12\n",
      "Train 0.08344741287951668 97.62333333333333\n",
      "Test 96.88\n",
      "Epoch 13\n",
      "Train 0.07705044977056484 97.82166666666667\n",
      "Test 97.24\n",
      "Epoch 14\n",
      "Train 0.07097822670203945 97.99\n",
      "Test 97.09\n",
      "Epoch 15\n",
      "Train 0.06591400109619523 98.14333333333333\n",
      "Test 97.45\n",
      "Epoch 16\n",
      "Train 0.0611507254683723 98.3\n",
      "Test 97.32\n",
      "Epoch 17\n",
      "Train 0.05659725449824085 98.41833333333334\n",
      "Test 97.4\n",
      "Epoch 18\n",
      "Train 0.05300032008284082 98.51333333333334\n",
      "Test 97.53\n",
      "Epoch 19\n",
      "Train 0.048999760824566085 98.64833333333333\n",
      "Test 97.71\n",
      "Epoch 20\n",
      "Train 0.046012715940984585 98.73666666666666\n",
      "Test 97.59\n",
      "Epoch 21\n",
      "Train 0.04285164451925084 98.865\n",
      "Test 97.75\n",
      "Epoch 22\n",
      "Train 0.04007214447793861 98.92666666666666\n",
      "Test 97.65\n",
      "Epoch 23\n",
      "Train 0.03737936679041013 99.05666666666667\n",
      "Test 97.69\n",
      "Epoch 24\n",
      "Train 0.03513237121903027 99.10166666666667\n",
      "Test 97.77\n",
      "Epoch 25\n",
      "Train 0.03276160622520062 99.17333333333333\n",
      "Test 97.81\n",
      "Epoch 26\n",
      "Train 0.030488035407227776 99.28333333333333\n",
      "Test 97.77\n",
      "Epoch 27\n",
      "Train 0.02843232868433309 99.31333333333333\n",
      "Test 97.74\n",
      "Epoch 28\n",
      "Train 0.026622011116705833 99.36\n",
      "Test 97.72\n",
      "Epoch 29\n",
      "Train 0.024893016647935536 99.44333333333333\n",
      "Test 97.86\n",
      "Epoch 30\n",
      "Train 0.023268422776600347 99.48666666666666\n",
      "Test 97.78\n",
      "Epoch 31\n",
      "Train 0.02168002837880825 99.55166666666666\n",
      "Test 97.86\n",
      "Epoch 32\n",
      "Train 0.02022633484409501 99.59\n",
      "Test 97.86\n",
      "Epoch 33\n",
      "Train 0.01902734101517126 99.63\n",
      "Test 97.87\n",
      "Epoch 34\n",
      "Train 0.01787289847328793 99.66\n",
      "Test 97.87\n",
      "Epoch 35\n",
      "Train 0.016599400540580973 99.70833333333333\n",
      "Test 97.9\n",
      "Epoch 36\n",
      "Train 0.01556800228174931 99.745\n",
      "Test 97.95\n",
      "Epoch 37\n",
      "Train 0.014548314552036269 99.78\n",
      "Test 97.81\n",
      "Epoch 38\n",
      "Train 0.01356975680430575 99.80666666666667\n",
      "Test 97.87\n",
      "Epoch 39\n",
      "Train 0.012690792589758833 99.835\n",
      "Test 97.77\n",
      "Epoch 40\n",
      "Train 0.012114932576466042 99.84666666666666\n",
      "Test 97.85\n",
      "Epoch 41\n",
      "Train 0.011214557159886075 99.86833333333334\n",
      "Test 97.76\n",
      "Epoch 42\n",
      "Train 0.010544881946989335 99.89333333333333\n",
      "Test 97.81\n",
      "Epoch 43\n",
      "Train 0.00998249476387476 99.895\n",
      "Test 97.79\n",
      "Epoch 44\n",
      "Train 0.009298263418410594 99.90833333333333\n",
      "Test 97.96\n",
      "Epoch 45\n",
      "Train 0.008828073663753457 99.91333333333333\n",
      "Test 97.81\n",
      "Epoch 46\n",
      "Train 0.008268549317920891 99.925\n",
      "Test 97.8\n",
      "Epoch 47\n",
      "Train 0.007813409190275707 99.925\n",
      "Test 97.79\n",
      "Epoch 48\n",
      "Train 0.007351521363210244 99.93333333333334\n",
      "Test 97.85\n",
      "Epoch 49\n",
      "Train 0.007079729468290073 99.945\n",
      "Test 97.89\n",
      "Epoch 50\n",
      "Train 0.006600347819330637 99.955\n",
      "Test 97.8\n",
      "Epoch 51\n",
      "Train 0.006224716576980427 99.96333333333334\n",
      "Test 97.85\n",
      "Epoch 52\n",
      "Train 0.005953277215594426 99.965\n",
      "Test 97.85\n",
      "Epoch 53\n",
      "Train 0.005620932195549055 99.96833333333333\n",
      "Test 97.8\n",
      "Epoch 54\n",
      "Train 0.0053571322840677265 99.975\n",
      "Test 97.8\n",
      "Epoch 55\n",
      "Train 0.005104865545678574 99.98166666666667\n",
      "Test 97.83\n",
      "Epoch 56\n",
      "Train 0.004809295549930539 99.98166666666667\n",
      "Test 97.86\n",
      "Epoch 57\n",
      "Train 0.0046536442729605675 99.98166666666667\n",
      "Test 97.85\n",
      "Epoch 58\n",
      "Train 0.004412612644470452 99.98666666666666\n",
      "Test 97.79\n",
      "Epoch 59\n",
      "Train 0.004218715811148286 99.98666666666666\n",
      "Test 97.78\n",
      "Epoch 60\n",
      "Train 0.004040719752617103 99.99\n",
      "Test 97.78\n",
      "Epoch 61\n",
      "Train 0.0038878432445926593 99.99333333333334\n",
      "Test 97.84\n",
      "Epoch 62\n",
      "Train 0.003726070709429526 99.995\n",
      "Test 97.83\n",
      "Epoch 63\n",
      "Train 0.003566180747099376 99.995\n",
      "Test 97.8\n",
      "Epoch 64\n",
      "Train 0.0034360952349864722 99.99666666666667\n",
      "Test 97.81\n",
      "Epoch 65\n",
      "Train 0.0033338961583164444 99.99333333333334\n",
      "Test 97.79\n",
      "Epoch 66\n",
      "Train 0.0032017715315062864 99.99833333333333\n",
      "Test 97.78\n",
      "Epoch 67\n",
      "Train 0.0030692249043446887 99.99833333333333\n",
      "Test 97.81\n",
      "Epoch 68\n",
      "Train 0.002967789832036942 99.99666666666667\n",
      "Test 97.73\n",
      "Epoch 69\n",
      "Train 0.0028740353671552537 99.995\n",
      "Test 97.77\n",
      "Epoch 70\n",
      "Train 0.002768237409181893 99.99666666666667\n",
      "Test 97.88\n",
      "Epoch 71\n",
      "Train 0.002674417089729104 99.99833333333333\n",
      "Test 97.84\n",
      "Epoch 72\n",
      "Train 0.002598090128982828 99.99833333333333\n",
      "Test 97.82\n",
      "Epoch 73\n",
      "Train 0.0025118907559469033 99.99833333333333\n",
      "Test 97.79\n",
      "Epoch 74\n",
      "Train 0.002444773757524672 99.99833333333333\n",
      "Test 97.8\n",
      "Epoch 75\n",
      "Train 0.002354220404862038 99.99833333333333\n",
      "Test 97.79\n",
      "Epoch 76\n",
      "Train 0.002296742399048526 99.99833333333333\n",
      "Test 97.82\n",
      "Epoch 77\n",
      "Train 0.002232019635363637 99.99666666666667\n",
      "Test 97.88\n",
      "Epoch 78\n",
      "Train 0.0021608944657297495 100.0\n",
      "Test 97.81\n",
      "Epoch 79\n",
      "Train 0.0021069732635805847 99.99833333333333\n",
      "Test 97.85\n",
      "Epoch 80\n",
      "Train 0.002047694674450516 99.99833333333333\n",
      "Test 97.82\n",
      "Epoch 81\n",
      "Train 0.002000064119832435 100.0\n",
      "Test 97.79\n",
      "Epoch 82\n",
      "Train 0.0019464838627754944 100.0\n",
      "Test 97.8\n",
      "Epoch 83\n",
      "Train 0.001886651724174347 100.0\n",
      "Test 97.77\n",
      "Epoch 84\n",
      "Train 0.0018457800416702716 100.0\n",
      "Test 97.8\n",
      "Epoch 85\n",
      "Train 0.0018049898106983165 99.99833333333333\n",
      "Test 97.87\n",
      "Epoch 86\n",
      "Train 0.001753697324966197 100.0\n",
      "Test 97.82\n",
      "Epoch 87\n",
      "Train 0.0017102152664544216 100.0\n",
      "Test 97.79\n",
      "Epoch 88\n",
      "Train 0.0016744028326987368 99.99833333333333\n",
      "Test 97.84\n",
      "Epoch 89\n",
      "Train 0.00163644609558105 100.0\n",
      "Test 97.84\n",
      "Epoch 90\n",
      "Train 0.0015924826265351537 100.0\n",
      "Test 97.83\n",
      "Epoch 91\n",
      "Train 0.0015641191411001878 100.0\n",
      "Test 97.85\n",
      "Epoch 92\n",
      "Train 0.0015231817713599108 100.0\n",
      "Test 97.77\n",
      "Epoch 93\n",
      "Train 0.0014936656892192938 100.0\n",
      "Test 97.84\n",
      "Epoch 94\n",
      "Train 0.0014607381420501042 100.0\n",
      "Test 97.79\n",
      "Epoch 95\n",
      "Train 0.0014335972153761152 100.0\n",
      "Test 97.84\n",
      "Epoch 96\n",
      "Train 0.0014049626285122941 100.0\n",
      "Test 97.83\n",
      "Epoch 97\n",
      "Train 0.0013727219211674916 100.0\n",
      "Test 97.89\n",
      "Epoch 98\n",
      "Train 0.0013456543432645656 100.0\n",
      "Test 97.81\n",
      "Epoch 99\n",
      "Train 0.0013209056468379762 100.0\n",
      "Test 97.85\n"
     ]
    }
   ],
   "source": [
    "model = paddle.sparse.MaskedDeepDAN(784, 10, structure)\n",
    "\n",
    "# Assuming that we are on a CUDA machine, this should print a CUDA device:\n",
    "print(device)\n",
    "model.to(device)\n",
    "\n",
    "optimizer = torch.optim.SGD(model.parameters(), lr=0.01, momentum=0.5)\n",
    "loss_func = nn.CrossEntropyLoss()    \n",
    "\n",
    "epochs = 100\n",
    "for epoch in range(epochs):\n",
    "    print('Epoch', epoch)\n",
    "    loss, perc = train(mnist_train_loader, model, optimizer, loss_func, device, percentage=True)\n",
    "    print('Train', loss, perc)\n",
    "\n",
    "    print('Test', test(mnist_test_loader, model, device))"
   ]
  },
  {
   "cell_type": "code",
   "execution_count": 28,
   "metadata": {},
   "outputs": [
    {
     "data": {
      "text/plain": [
       "<matplotlib.axes._subplots.AxesSubplot at 0x7fa9716e7cd0>"
      ]
     },
     "execution_count": 28,
     "metadata": {},
     "output_type": "execute_result"
    },
    {
     "data": {
      "image/png": "[encoded data removed]",
      "text/plain": [
       "<Figure size 432x288 with 2 Axes>"
      ]
     },
     "metadata": {
      "needs_background": "light"
     },
     "output_type": "display_data"
    }
   ],
   "source": [
    "sns.heatmap(model.layers_main_hidden[0].weight.cpu().detach().numpy())"
   ]
  },
  {
   "cell_type": "code",
   "execution_count": 29,
   "metadata": {},
   "outputs": [
    {
     "data": {
      "text/plain": [
       "<matplotlib.axes._subplots.AxesSubplot at 0x7fa9715b4d10>"
      ]
     },
     "execution_count": 29,
     "metadata": {},
     "output_type": "execute_result"
    },
    {
     "data": {
      "image/png": "[encoded data removed]",
      "text/plain": [
       "<Figure size 432x288 with 2 Axes>"
      ]
     },
     "metadata": {
      "needs_background": "light"
     },
     "output_type": "display_data"
    }
   ],
   "source": [
    "sns.heatmap(model.layers_main_hidden[0].mask.cpu().detach().numpy())"
   ]
  },
  {
   "cell_type": "code",
   "execution_count": null,
   "metadata": {},
   "outputs": [],
   "source": []
  }
 ],
 "metadata": {
  "kernelspec": {
   "display_name": "Python (paddle)",
   "language": "python",
   "name": "paddle"
  },
  "language_info": {
   "codemirror_mode": {
    "name": "ipython",
    "version": 3
   },
   "file_extension": ".py",
   "mimetype": "text/x-python",
   "name": "python",
   "nbconvert_exporter": "python",
   "pygments_lexer": "ipython3",
   "version": "3.7.4"
  }
 },
 "nbformat": 4,
 "nbformat_minor": 2
}
