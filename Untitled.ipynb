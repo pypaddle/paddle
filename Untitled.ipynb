{
 "cells": [
  {
   "cell_type": "code",
   "execution_count": 1,
   "metadata": {},
   "outputs": [],
   "source": [
    "import os\n",
    "import paddle\n",
    "import torchvision\n",
    "import torch\n",
    "import torch.nn as nn\n",
    "import numpy as np\n",
    "import paddle.sparse\n",
    "import seaborn as sns\n",
    "import networkx as nx\n",
    "\n",
    "from paddle.learning import train, test\n",
    "from torchvision.transforms import transforms"
   ]
  },
  {
   "cell_type": "code",
   "execution_count": 3,
   "metadata": {},
   "outputs": [],
   "source": [
    "batch_size = 100\n",
    "\n",
    "custom_transform = transforms.Compose([\n",
    "    transforms.ToTensor(),  # first, convert image to PyTorch tensor\n",
    "    transforms.Normalize((0.1307,), (0.3081,))  # normalize inputs\n",
    "])\n",
    "# download and transform train dataset\n",
    "mnist_train_loader = torch.utils.data.DataLoader(torchvision.datasets.MNIST('/media/data/set/mnist/',\n",
    "                                                          download=True,\n",
    "                                                          train=True,\n",
    "                                                          transform=custom_transform),\n",
    "                                                           batch_size=batch_size,\n",
    "                                                           shuffle=True)\n",
    "\n",
    "# download and transform test dataset\n",
    "mnist_test_loader = torch.utils.data.DataLoader(torchvision.datasets.MNIST('/media/data/set/mnist/',\n",
    "                                                         download=True,\n",
    "                                                         train=False,\n",
    "                                                         transform=custom_transform),\n",
    "                                                          batch_size=batch_size,\n",
    "                                                          shuffle=True)"
   ]
  },
  {
   "cell_type": "code",
   "execution_count": null,
   "metadata": {},
   "outputs": [
    {
     "name": "stdout",
     "output_type": "stream",
     "text": [
      "Repetition 0\n",
      "Repetition 1\n"
     ]
    }
   ],
   "source": [
    "epochs = 100\n",
    "device = torch.device('cuda:0' if torch.cuda.is_available() else 'cpu')\n",
    "\n",
    "repeated_history_train_loss = []\n",
    "repeated_history_train_acc = []\n",
    "repeated_history_test_acc = []\n",
    "for rep in range(2):\n",
    "    print('Repetition', rep)\n",
    "    model = paddle.sparse.MaskedDeepFFN(784, 10, [200, 100])\n",
    "    model.to(device)\n",
    "\n",
    "    optimizer = torch.optim.SGD(model.parameters(), lr=0.01, momentum=0.5)\n",
    "    loss_func = nn.CrossEntropyLoss()\n",
    "    \n",
    "    history_train_loss = []\n",
    "    history_train_acc = []\n",
    "    history_test_acc = []\n",
    "    for epoch in range(epochs):\n",
    "        print('Epoch', epoch)\n",
    "        loss, perc = train(mnist_train_loader, model, optimizer, loss_func, device, percentage=True)\n",
    "        test_perc = test(mnist_test_loader, model, device)\n",
    "        \n",
    "        history_train_loss.append(loss)\n",
    "        history_train_acc.append(perc)\n",
    "        history_test_acc.append(test_perc)\n",
    "    \n",
    "    repeated_history_train_loss.append(history_train_loss)\n",
    "    repeated_history_train_acc.append(history_train_acc)\n",
    "    repeated_history_test_acc.append(history_test_acc)"
   ]
  },
  {
   "cell_type": "code",
   "execution_count": null,
   "metadata": {},
   "outputs": [],
   "source": []
  }
 ],
 "metadata": {
  "kernelspec": {
   "display_name": "Python (paddle)",
   "language": "python",
   "name": "paddle"
  },
  "language_info": {
   "codemirror_mode": {
    "name": "ipython",
    "version": 3
   },
   "file_extension": ".py",
   "mimetype": "text/x-python",
   "name": "python",
   "nbconvert_exporter": "python",
   "pygments_lexer": "ipython3",
   "version": "3.7.4"
  }
 },
 "nbformat": 4,
 "nbformat_minor": 2
}
