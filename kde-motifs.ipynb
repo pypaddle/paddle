{
 "cells": [
  {
   "cell_type": "markdown",
   "metadata": {},
   "source": [
    "# Investigating KDEs of popular architectures for Motif usage / sampling"
   ]
  },
  {
   "cell_type": "markdown",
   "metadata": {},
   "source": [
    "# Imports"
   ]
  },
  {
   "cell_type": "code",
   "execution_count": 75,
   "metadata": {},
   "outputs": [],
   "source": [
    "import copy\n",
    "import time\n",
    "import torch\n",
    "import torch.nn as nn\n",
    "import numpy as np\n",
    "import seaborn as sns\n",
    "import matplotlib.pyplot as plt\n",
    "import torchvision.models as models\n",
    "from torchvision import datasets, transforms\n",
    "\n",
    "from sklearn.neighbors import KernelDensity\n",
    "from sklearn.decomposition import PCA"
   ]
  },
  {
   "cell_type": "code",
   "execution_count": 131,
   "metadata": {},
   "outputs": [],
   "source": [
    "alexnet = models.alexnet(pretrained=True)"
   ]
  },
  {
   "cell_type": "code",
   "execution_count": 5,
   "metadata": {},
   "outputs": [],
   "source": [
    "feature0_pca = PCA(n_components=15, whiten=False)\n",
    "feature0_data = feature0_pca.fit_transform(alexnet.features[0].weight.detach().numpy().reshape(-1, 11*11))\n",
    "feature0_kde = KernelDensity(kernel='gaussian', bandwidth=0.2).fit(feature0_data)"
   ]
  },
  {
   "cell_type": "code",
   "execution_count": 6,
   "metadata": {},
   "outputs": [],
   "source": [
    "feature3_pca = PCA(n_components=15, whiten=False)\n",
    "feature3_data = feature3_pca.fit_transform(alexnet.features[3].weight.detach().numpy().reshape(-1, 5*5))\n",
    "feature3_kde = KernelDensity(kernel='gaussian', bandwidth=0.2).fit(feature3_data)"
   ]
  },
  {
   "cell_type": "code",
   "execution_count": 53,
   "metadata": {},
   "outputs": [],
   "source": [
    "class Motif(object):\n",
    "    def __init__(self, data, downsample:int=15):\n",
    "        self._pca = PCA(n_components=downsample, whiten=False) if downsample else None\n",
    "        if self._pca is not None:\n",
    "            transformed_data = self._pca.fit_transform(data)\n",
    "            self._kde = KernelDensity(kernel='gaussian', bandwidth=0.2).fit(transformed_data)\n",
    "        else:\n",
    "            self._kde = KernelDensity(kernel='gaussian', bandwidth=0.2).fit(data)\n",
    "    \n",
    "    def sample(self):\n",
    "        kde_sample = self._kde.sample(1)\n",
    "        return kde_sample if self._pca is None else self._pca.inverse_transform(self._kde.sample(1))"
   ]
  },
  {
   "cell_type": "code",
   "execution_count": 57,
   "metadata": {},
   "outputs": [],
   "source": [
    "motif0 = Motif(alexnet.features[0].weight.detach().numpy().reshape(-1, 11*11))\n",
    "motif3 = Motif(alexnet.features[3].weight.detach().numpy().reshape(-1, 5*5))\n",
    "motif6 = Motif(alexnet.features[6].weight.detach().numpy().reshape(-1, 3*3), downsample=None)"
   ]
  },
  {
   "cell_type": "code",
   "execution_count": 56,
   "metadata": {},
   "outputs": [
    {
     "name": "stdout",
     "output_type": "stream",
     "text": [
      "Sample vs random normal\t\t 1.0252208\n",
      "Sample vs random uniform\t 0.3491165\n",
      "Sample vs uniform(-0.8,0.8)\t 0.2294704\n",
      "Sample vs uniform(-0.4,0.4)\t 0.0689206\n",
      "Feature0 vs Feature0\t\t 0.031253207\n",
      "Feature0 vs Feature3in0\t\t 0.020539014\n",
      "Feature3 vs Feature0in3\t\t 0.100704215\n",
      "Feature6 vs Feature6\t\t 0.08165892\n",
      "Feature6 vs uniform(-0.4,0.4)\t 0.09314346\n"
     ]
    }
   ],
   "source": [
    "loss = nn.MSELoss()\n",
    "repetitions = 1000\n",
    "sample_feature0 = lambda: feature0_pca.inverse_transform(feature0_kde.sample(1))\n",
    "sample_feature3 = lambda: feature3_pca.inverse_transform(feature3_kde.sample(1))\n",
    "print('Sample vs random normal\\t\\t', np.mean([loss(torch.FloatTensor(sample_feature0()), torch.FloatTensor(1, 121).normal_()) for _ in range(repetitions)]))\n",
    "print('Sample vs random uniform\\t', np.mean([loss(torch.FloatTensor(sample_feature0()), torch.FloatTensor(1, 121).uniform_()) for _ in range(repetitions)]))\n",
    "print('Sample vs uniform(-0.8,0.8)\\t', np.mean([loss(torch.FloatTensor(sample_feature0()), torch.FloatTensor(1, 121).uniform_(-0.8,0.8)) for _ in range(repetitions)]))\n",
    "print('Sample vs uniform(-0.4,0.4)\\t', np.mean([loss(torch.FloatTensor(sample_feature0()), torch.FloatTensor(1, 121).uniform_(-0.4,0.4)) for _ in range(repetitions)]))\n",
    "print('Feature0 vs Feature0\\t\\t', np.mean([loss(torch.FloatTensor(sample_feature0()), torch.FloatTensor(sample_feature0())) for _ in range(repetitions)]))\n",
    "\n",
    "sample_feature3in0 = lambda: feature0_pca.inverse_transform(feature3_kde.sample(1))\n",
    "sample_feature0in3 = lambda: feature3_pca.inverse_transform(feature0_kde.sample(1))\n",
    "print('Feature0 vs Feature3in0\\t\\t', np.mean([loss(torch.FloatTensor(sample_feature0()), torch.FloatTensor(sample_feature3in0())) for _ in range(repetitions)]))\n",
    "print('Feature3 vs Feature0in3\\t\\t', np.mean([loss(torch.FloatTensor(sample_feature3()), torch.FloatTensor(sample_feature0in3())) for _ in range(repetitions)]))\n",
    "\n",
    "print('Feature6 vs Feature6\\t\\t', np.mean([loss(torch.FloatTensor(motif6.sample()), torch.FloatTensor(motif6.sample())) for _ in range(repetitions)]))\n",
    "print('Feature6 vs uniform(-0.4,0.4)\\t', np.mean([loss(torch.FloatTensor(motif6.sample()), torch.FloatTensor(1, 9).uniform_(-0.4,0.4)) for _ in range(repetitions)]))\n"
   ]
  },
  {
   "cell_type": "code",
   "execution_count": 20,
   "metadata": {},
   "outputs": [
    {
     "data": {
      "text/plain": [
       "<matplotlib.axes._subplots.AxesSubplot at 0x7fba7e0d5190>"
      ]
     },
     "execution_count": 20,
     "metadata": {},
     "output_type": "execute_result"
    },
    {
     "data": {
      "image/png": "[encoded data removed]",
      "text/plain": [
       "<Figure size 432x288 with 2 Axes>"
      ]
     },
     "metadata": {
      "needs_background": "light"
     },
     "output_type": "display_data"
    }
   ],
   "source": [
    "sns.heatmap(sample_feature0().reshape(11, 11))"
   ]
  },
  {
   "cell_type": "code",
   "execution_count": 140,
   "metadata": {},
   "outputs": [],
   "source": [
    "def disable_parameter_requires_grad(model):\n",
    "    for param in model.parameters():\n",
    "        param.requires_grad = False\n",
    "disable_parameter_requires_grad(alexnet)\n",
    "num_classes = 10\n",
    "alexnet.classifier[6] = nn.Linear(4096, num_classes)"
   ]
  },
  {
   "cell_type": "code",
   "execution_count": 133,
   "metadata": {},
   "outputs": [
    {
     "name": "stdout",
     "output_type": "stream",
     "text": [
      "Files already downloaded and verified\n",
      "Files already downloaded and verified\n"
     ]
    },
    {
     "data": {
      "text/plain": [
       "\"\\n# download and transform train dataset\\nmnist_train_loader = torch.utils.data.DataLoader(\\n    datasets.MNIST('/media/data/set/mnist/',\\n    download=True,\\n    train=True,\\n    transform=train_transform),\\n    batch_size=batch_size,\\n    shuffle=True)\\n\\n# download and transform test dataset\\nmnist_test_loader = torch.utils.data.DataLoader(\\n    datasets.MNIST('/media/data/set/mnist/',\\n    download=True,\\n    train=False,\\n    transform=test_transform),\\n    batch_size=batch_size,\\n    shuffle=True)\\n\""
      ]
     },
     "execution_count": 133,
     "metadata": {},
     "output_type": "execute_result"
    }
   ],
   "source": [
    "input_size = 224\n",
    "batch_size = 100\n",
    "device = torch.device('cuda:0' if torch.cuda.is_available() else 'cpu')\n",
    "\n",
    "train_transform = transforms.Compose([\n",
    "    transforms.RandomResizedCrop(input_size),\n",
    "    transforms.RandomHorizontalFlip(),\n",
    "    transforms.ToTensor(),  # first, convert image to PyTorch tensor\n",
    "    transforms.Normalize((0.5, 0.5, 0.5), (0.5, 0.5, 0.5))  # normalize inputs for cifar\n",
    "    #transforms.Normalize((0.1307,), (0.3081,))  # normalize inputs for mnist\n",
    "])\n",
    "test_transform = transforms.Compose([\n",
    "    transforms.Resize(input_size),\n",
    "    transforms.CenterCrop(input_size),\n",
    "    transforms.ToTensor(),  # first, convert image to PyTorch tensor\n",
    "    transforms.Normalize((0.5, 0.5, 0.5), (0.5, 0.5, 0.5))\n",
    "    #transforms.Normalize((0.1307,), (0.3081,))  # normalize inputs for mnist\n",
    "])\n",
    "\n",
    "cifar10_dataset_root = '/media/data/set/cifar10'\n",
    "cifar10_train_set = datasets.CIFAR10(root=cifar10_dataset_root, train=True, download=True, transform=train_transform)\n",
    "cifar10_test_set = datasets.CIFAR10(root=cifar10_dataset_root, train=False, download=True, transform=test_transform)\n",
    "cifar10_train_loader = torch.utils.data.DataLoader(cifar10_train_set, batch_size=batch_size, shuffle=True)\n",
    "cifar10_test_loader = torch.utils.data.DataLoader(cifar10_test_set, batch_size=batch_size, shuffle=True)\n",
    "\n",
    "\"\"\"\n",
    "# download and transform train dataset\n",
    "mnist_train_loader = torch.utils.data.DataLoader(\n",
    "    datasets.MNIST('/media/data/set/mnist/',\n",
    "    download=True,\n",
    "    train=True,\n",
    "    transform=train_transform),\n",
    "    batch_size=batch_size,\n",
    "    shuffle=True)\n",
    "\n",
    "# download and transform test dataset\n",
    "mnist_test_loader = torch.utils.data.DataLoader(\n",
    "    datasets.MNIST('/media/data/set/mnist/',\n",
    "    download=True,\n",
    "    train=False,\n",
    "    transform=test_transform),\n",
    "    batch_size=batch_size,\n",
    "    shuffle=True)\n",
    "\"\"\""
   ]
  },
  {
   "cell_type": "code",
   "execution_count": 130,
   "metadata": {},
   "outputs": [
    {
     "data": {
      "text/plain": [
       "device(type='cpu')"
      ]
     },
     "execution_count": 130,
     "metadata": {},
     "output_type": "execute_result"
    }
   ],
   "source": [
    "device"
   ]
  },
  {
   "cell_type": "code",
   "execution_count": 70,
   "metadata": {},
   "outputs": [],
   "source": [
    "def train_model(model, dataloaders, criterion, optimizer, num_epochs=25, is_inception=False):\n",
    "    since = time.time()\n",
    "\n",
    "    val_acc_history = []\n",
    "\n",
    "    best_model_wts = copy.deepcopy(model.state_dict())\n",
    "    best_acc = 0.0\n",
    "\n",
    "    for epoch in range(num_epochs):\n",
    "        print('Epoch {}/{}'.format(epoch, num_epochs - 1))\n",
    "        print('-' * 10)\n",
    "\n",
    "        # Each epoch has a training and validation phase\n",
    "        for phase in ['train', 'val']:\n",
    "            if phase == 'train':\n",
    "                model.train()  # Set model to training mode\n",
    "            else:\n",
    "                model.eval()   # Set model to evaluate mode\n",
    "\n",
    "            running_loss = 0.0\n",
    "            running_corrects = 0\n",
    "\n",
    "            # Iterate over data.\n",
    "            for inputs, labels in dataloaders[phase]:\n",
    "                inputs = inputs.to(device)\n",
    "                labels = labels.to(device)\n",
    "\n",
    "                # zero the parameter gradients\n",
    "                optimizer.zero_grad()\n",
    "\n",
    "                # forward\n",
    "                # track history if only in train\n",
    "                with torch.set_grad_enabled(phase == 'train'):\n",
    "                    # Get model outputs and calculate loss\n",
    "                    # Special case for inception because in training it has an auxiliary output. In train\n",
    "                    #   mode we calculate the loss by summing the final output and the auxiliary output\n",
    "                    #   but in testing we only consider the final output.\n",
    "                    if is_inception and phase == 'train':\n",
    "                        # From https://discuss.pytorch.org/t/how-to-optimize-inception-model-with-auxiliary-classifiers/7958\n",
    "                        outputs, aux_outputs = model(inputs)\n",
    "                        loss1 = criterion(outputs, labels)\n",
    "                        loss2 = criterion(aux_outputs, labels)\n",
    "                        loss = loss1 + 0.4*loss2\n",
    "                    else:\n",
    "                        outputs = model(inputs)\n",
    "                        loss = criterion(outputs, labels)\n",
    "\n",
    "                    _, preds = torch.max(outputs, 1)\n",
    "\n",
    "                    # backward + optimize only if in training phase\n",
    "                    if phase == 'train':\n",
    "                        loss.backward()\n",
    "                        optimizer.step()\n",
    "\n",
    "                # statistics\n",
    "                running_loss += loss.item() * inputs.size(0)\n",
    "                running_corrects += torch.sum(preds == labels.data)\n",
    "\n",
    "            epoch_loss = running_loss / len(dataloaders[phase].dataset)\n",
    "            epoch_acc = running_corrects.double() / len(dataloaders[phase].dataset)\n",
    "\n",
    "            print('{} Loss: {:.4f} Acc: {:.4f}'.format(phase, epoch_loss, epoch_acc))\n",
    "\n",
    "            # deep copy the model\n",
    "            if phase == 'val' and epoch_acc > best_acc:\n",
    "                best_acc = epoch_acc\n",
    "                best_model_wts = copy.deepcopy(model.state_dict())\n",
    "            if phase == 'val':\n",
    "                val_acc_history.append(epoch_acc)\n",
    "\n",
    "        print()\n",
    "\n",
    "    time_elapsed = time.time() - since\n",
    "    print('Training complete in {:.0f}m {:.0f}s'.format(time_elapsed // 60, time_elapsed % 60))\n",
    "    print('Best val Acc: {:4f}'.format(best_acc))\n",
    "\n",
    "    # load best model weights\n",
    "    model.load_state_dict(best_model_wts)\n",
    "    return model, val_acc_history"
   ]
  },
  {
   "cell_type": "code",
   "execution_count": 80,
   "metadata": {},
   "outputs": [
    {
     "name": "stdout",
     "output_type": "stream",
     "text": [
      "Epoch 0/4\n",
      "----------\n",
      "train Loss: 1.4601 Acc: 0.4736\n",
      "val Loss: 0.8935 Acc: 0.6844\n",
      "\n",
      "Epoch 1/4\n",
      "----------\n",
      "train Loss: 1.3626 Acc: 0.5112\n",
      "val Loss: 0.8448 Acc: 0.6997\n",
      "\n",
      "Epoch 2/4\n",
      "----------\n",
      "train Loss: 1.3380 Acc: 0.5237\n",
      "val Loss: 0.7918 Acc: 0.7240\n",
      "\n",
      "Epoch 3/4\n",
      "----------\n",
      "train Loss: 1.3314 Acc: 0.5242\n",
      "val Loss: 0.8106 Acc: 0.7157\n",
      "\n",
      "Epoch 4/4\n",
      "----------\n",
      "train Loss: 1.3227 Acc: 0.5257\n",
      "val Loss: 0.8124 Acc: 0.7131\n",
      "\n",
      "Training complete in 33m 34s\n",
      "Best val Acc: 0.724000\n"
     ]
    }
   ],
   "source": [
    "params_to_update = []\n",
    "for name, param in alexnet.named_parameters():\n",
    "    if param.requires_grad == True:\n",
    "        params_to_update.append(param)\n",
    "\n",
    "optimizer = torch.optim.SGD(params_to_update, lr=0.01, momentum=0.5)\n",
    "loss_func = nn.CrossEntropyLoss()\n",
    "\n",
    "alexnet.to(device)\n",
    "\n",
    "dataloaders_dict = {\n",
    "    'train': cifar10_train_loader,\n",
    "    'val': cifar10_test_loader\n",
    "}\n",
    "\n",
    "model_ft, hist = train_model(\n",
    "    alexnet,\n",
    "    dataloaders_dict,\n",
    "    loss_func,\n",
    "    optimizer,\n",
    "    num_epochs=5,\n",
    "    is_inception=False\n",
    ")\n"
   ]
  },
  {
   "cell_type": "code",
   "execution_count": 136,
   "metadata": {},
   "outputs": [
    {
     "data": {
      "text/plain": [
       "(192, 64, 5, 5)"
      ]
     },
     "execution_count": 136,
     "metadata": {},
     "output_type": "execute_result"
    }
   ],
   "source": [
    "trained_alexnet_features3_weight = np.copy(model_ft.features[3].weight)\n",
    "trained_alexnet_features3_weight.shape"
   ]
  },
  {
   "cell_type": "code",
   "execution_count": 137,
   "metadata": {},
   "outputs": [
    {
     "data": {
      "text/plain": [
       "(1, 25)"
      ]
     },
     "execution_count": 137,
     "metadata": {},
     "output_type": "execute_result"
    }
   ],
   "source": [
    "motif3.sample().shape"
   ]
  },
  {
   "cell_type": "code",
   "execution_count": 138,
   "metadata": {},
   "outputs": [
    {
     "data": {
      "text/plain": [
       "(192, 64, 5, 5)"
      ]
     },
     "execution_count": 138,
     "metadata": {},
     "output_type": "execute_result"
    }
   ],
   "source": [
    "sampled_features3_weight = np.stack([np.stack([motif3.sample().reshape(5, 5) for _ in range(64)]) for _ in range(192)])\n",
    "sampled_features3_weight.shape"
   ]
  },
  {
   "cell_type": "code",
   "execution_count": 141,
   "metadata": {},
   "outputs": [],
   "source": [
    "# Assign samples feature weight to model\n",
    "disable_parameter_requires_grad(model_ft)\n",
    "model_ft.features[3].weight = nn.Parameter(torch.FloatTensor(sampled_features3_weight), requires_grad=False)"
   ]
  },
  {
   "cell_type": "code",
   "execution_count": 142,
   "metadata": {},
   "outputs": [],
   "source": [
    "# Set the succeeding layer to be learnable\n",
    "model_ft.features[6].weight.requires_grad = True"
   ]
  },
  {
   "cell_type": "code",
   "execution_count": 103,
   "metadata": {},
   "outputs": [
    {
     "name": "stdout",
     "output_type": "stream",
     "text": [
      "Validation Loss: 3.6768 Acc: 0.0956\n"
     ]
    }
   ],
   "source": [
    "# Re-validate model\n",
    "model = model_ft\n",
    "optimizer = torch.optim.SGD(params_to_update, lr=0.01, momentum=0.5)\n",
    "criterion = nn.CrossEntropyLoss()\n",
    "\n",
    "running_loss = 0.0\n",
    "running_corrects = 0\n",
    "\n",
    "model.eval()  # Set model to evaluating-stage\n",
    "\n",
    "dataloader = cifar10_test_loader\n",
    "\n",
    "# Iterate over data.\n",
    "for inputs, labels in dataloader:\n",
    "    inputs = inputs.to(device)\n",
    "    labels = labels.to(device)\n",
    "\n",
    "    # zero the parameter gradients\n",
    "    optimizer.zero_grad()\n",
    "\n",
    "    # forward\n",
    "    # track history if only in train\n",
    "    with torch.set_grad_enabled(False):\n",
    "        outputs = model(inputs)\n",
    "        loss = criterion(outputs, labels)\n",
    "\n",
    "        _, preds = torch.max(outputs, 1)\n",
    "\n",
    "    # statistics\n",
    "    running_loss += loss.item() * inputs.size(0)\n",
    "    running_corrects += torch.sum(preds == labels.data)\n",
    "\n",
    "epoch_loss = running_loss / len(dataloader.dataset)\n",
    "epoch_acc = running_corrects.double() / len(dataloader.dataset)\n",
    "\n",
    "print('{} Loss: {:.4f} Acc: {:.4f}'.format('Validation', epoch_loss, epoch_acc))"
   ]
  },
  {
   "cell_type": "code",
   "execution_count": 143,
   "metadata": {},
   "outputs": [
    {
     "name": "stdout",
     "output_type": "stream",
     "text": [
      "Parameters to update:\n",
      "[torch.Size([384, 192, 3, 3]), torch.Size([10, 4096]), torch.Size([10])]\n",
      "Epoch 0/4\n",
      "----------\n",
      "train Loss: 2.3513 Acc: 0.0948\n",
      "val Loss: 2.3446 Acc: 0.0930\n",
      "\n",
      "Epoch 1/4\n",
      "----------\n",
      "train Loss: 2.3516 Acc: 0.0942\n",
      "val Loss: 2.3446 Acc: 0.0930\n",
      "\n",
      "Epoch 2/4\n",
      "----------\n",
      "train Loss: 2.3510 Acc: 0.0941\n",
      "val Loss: 2.3446 Acc: 0.0930\n",
      "\n",
      "Epoch 3/4\n",
      "----------\n",
      "train Loss: 2.3511 Acc: 0.0941\n",
      "val Loss: 2.3446 Acc: 0.0930\n",
      "\n",
      "Epoch 4/4\n",
      "----------\n",
      "train Loss: 2.3517 Acc: 0.0943\n",
      "val Loss: 2.3446 Acc: 0.0930\n",
      "\n",
      "Training complete in 48m 12s\n",
      "Best val Acc: 0.093000\n"
     ]
    }
   ],
   "source": [
    "model = model_ft\n",
    "\n",
    "params_to_update = []\n",
    "for name, param in model.named_parameters():\n",
    "    if param.requires_grad == True:\n",
    "        params_to_update.append(param)\n",
    "print('Parameters to update:')\n",
    "print([p.shape for p in params_to_update])\n",
    "\n",
    "model.to(device)\n",
    "\n",
    "model_ft2, hist2 = train_model(\n",
    "    model,\n",
    "    dataloaders_dict,\n",
    "    loss_func,\n",
    "    optimizer,\n",
    "    num_epochs=5,\n",
    "    is_inception=False\n",
    ")\n"
   ]
  },
  {
   "cell_type": "code",
   "execution_count": null,
   "metadata": {},
   "outputs": [],
   "source": []
  }
 ],
 "metadata": {
  "kernelspec": {
   "display_name": "Conda (paddle)",
   "language": "python",
   "name": "paddle"
  },
  "language_info": {
   "codemirror_mode": {
    "name": "ipython",
    "version": 3
   },
   "file_extension": ".py",
   "mimetype": "text/x-python",
   "name": "python",
   "nbconvert_exporter": "python",
   "pygments_lexer": "ipython3",
   "version": "3.7.5"
  }
 },
 "nbformat": 4,
 "nbformat_minor": 2
}
